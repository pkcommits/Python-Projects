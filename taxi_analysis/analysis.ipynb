{
 "cells": [
  {
   "cell_type": "markdown",
   "metadata": {},
   "source": [
    "Importing the required modules"
   ]
  },
  {
   "cell_type": "code",
   "execution_count": 33,
   "metadata": {},
   "outputs": [],
   "source": [
    "import pandas as pd \n",
    "import matplotlib.pyplot as plt\n",
    " "
   ]
  },
  {
   "cell_type": "markdown",
   "metadata": {},
   "source": [
    "Reading the data into dataframe"
   ]
  },
  {
   "cell_type": "code",
   "execution_count": 4,
   "metadata": {},
   "outputs": [
    {
     "data": {
      "text/html": [
       "<div>\n",
       "<style scoped>\n",
       "    .dataframe tbody tr th:only-of-type {\n",
       "        vertical-align: middle;\n",
       "    }\n",
       "\n",
       "    .dataframe tbody tr th {\n",
       "        vertical-align: top;\n",
       "    }\n",
       "\n",
       "    .dataframe thead th {\n",
       "        text-align: right;\n",
       "    }\n",
       "</style>\n",
       "<table border=\"1\" class=\"dataframe\">\n",
       "  <thead>\n",
       "    <tr style=\"text-align: right;\">\n",
       "      <th></th>\n",
       "      <th>order_datetime</th>\n",
       "      <th>origin_longitude</th>\n",
       "      <th>origin_latitude</th>\n",
       "      <th>m_order_eta</th>\n",
       "      <th>order_gk</th>\n",
       "      <th>order_status_key</th>\n",
       "      <th>is_driver_assigned_key</th>\n",
       "      <th>cancellations_time_in_seconds</th>\n",
       "    </tr>\n",
       "  </thead>\n",
       "  <tbody>\n",
       "    <tr>\n",
       "      <th>0</th>\n",
       "      <td>18:08:07</td>\n",
       "      <td>-0.978916</td>\n",
       "      <td>51.456173</td>\n",
       "      <td>60.0</td>\n",
       "      <td>3000583041974</td>\n",
       "      <td>4</td>\n",
       "      <td>1</td>\n",
       "      <td>198.0</td>\n",
       "    </tr>\n",
       "    <tr>\n",
       "      <th>1</th>\n",
       "      <td>20:57:32</td>\n",
       "      <td>-0.950385</td>\n",
       "      <td>51.456843</td>\n",
       "      <td>NaN</td>\n",
       "      <td>3000583116437</td>\n",
       "      <td>4</td>\n",
       "      <td>0</td>\n",
       "      <td>128.0</td>\n",
       "    </tr>\n",
       "    <tr>\n",
       "      <th>2</th>\n",
       "      <td>12:07:50</td>\n",
       "      <td>-0.969520</td>\n",
       "      <td>51.455544</td>\n",
       "      <td>477.0</td>\n",
       "      <td>3000582891479</td>\n",
       "      <td>4</td>\n",
       "      <td>1</td>\n",
       "      <td>46.0</td>\n",
       "    </tr>\n",
       "    <tr>\n",
       "      <th>3</th>\n",
       "      <td>13:50:20</td>\n",
       "      <td>-1.054671</td>\n",
       "      <td>51.460544</td>\n",
       "      <td>658.0</td>\n",
       "      <td>3000582941169</td>\n",
       "      <td>4</td>\n",
       "      <td>1</td>\n",
       "      <td>62.0</td>\n",
       "    </tr>\n",
       "    <tr>\n",
       "      <th>4</th>\n",
       "      <td>21:24:45</td>\n",
       "      <td>-0.967605</td>\n",
       "      <td>51.458236</td>\n",
       "      <td>NaN</td>\n",
       "      <td>3000583140877</td>\n",
       "      <td>9</td>\n",
       "      <td>0</td>\n",
       "      <td>NaN</td>\n",
       "    </tr>\n",
       "  </tbody>\n",
       "</table>\n",
       "</div>"
      ],
      "text/plain": [
       "  order_datetime  origin_longitude  origin_latitude  m_order_eta  \\\n",
       "0       18:08:07         -0.978916        51.456173         60.0   \n",
       "1       20:57:32         -0.950385        51.456843          NaN   \n",
       "2       12:07:50         -0.969520        51.455544        477.0   \n",
       "3       13:50:20         -1.054671        51.460544        658.0   \n",
       "4       21:24:45         -0.967605        51.458236          NaN   \n",
       "\n",
       "        order_gk  order_status_key  is_driver_assigned_key  \\\n",
       "0  3000583041974                 4                       1   \n",
       "1  3000583116437                 4                       0   \n",
       "2  3000582891479                 4                       1   \n",
       "3  3000582941169                 4                       1   \n",
       "4  3000583140877                 9                       0   \n",
       "\n",
       "   cancellations_time_in_seconds  \n",
       "0                          198.0  \n",
       "1                          128.0  \n",
       "2                           46.0  \n",
       "3                           62.0  \n",
       "4                            NaN  "
      ]
     },
     "execution_count": 4,
     "metadata": {},
     "output_type": "execute_result"
    }
   ],
   "source": [
    "df = pd.read_csv(r'D:\\datascience\\projects\\Python-Projects\\taxi_analysis\\datasets\\data_orders.csv')\n",
    "df.head(5)"
   ]
  },
  {
   "cell_type": "code",
   "execution_count": 26,
   "metadata": {},
   "outputs": [
    {
     "name": "stdout",
     "output_type": "stream",
     "text": [
      "[1 0]\n"
     ]
    }
   ],
   "source": [
    "uni_val = df['is_driver_assigned_key'].unique()\n",
    "print(uni_val)"
   ]
  },
  {
   "cell_type": "code",
   "execution_count": 5,
   "metadata": {},
   "outputs": [
    {
     "name": "stdout",
     "output_type": "stream",
     "text": [
      "<class 'pandas.core.frame.DataFrame'>\n",
      "RangeIndex: 10716 entries, 0 to 10715\n",
      "Data columns (total 8 columns):\n",
      " #   Column                         Non-Null Count  Dtype  \n",
      "---  ------                         --------------  -----  \n",
      " 0   order_datetime                 10716 non-null  object \n",
      " 1   origin_longitude               10716 non-null  float64\n",
      " 2   origin_latitude                10716 non-null  float64\n",
      " 3   m_order_eta                    2814 non-null   float64\n",
      " 4   order_gk                       10716 non-null  int64  \n",
      " 5   order_status_key               10716 non-null  int64  \n",
      " 6   is_driver_assigned_key         10716 non-null  int64  \n",
      " 7   cancellations_time_in_seconds  7307 non-null   float64\n",
      "dtypes: float64(4), int64(3), object(1)\n",
      "memory usage: 669.9+ KB\n"
     ]
    }
   ],
   "source": [
    "df.info()"
   ]
  },
  {
   "cell_type": "markdown",
   "metadata": {},
   "source": [
    "Extraxt data where the ride has been cancelled after assigning the driver"
   ]
  },
  {
   "cell_type": "code",
   "execution_count": 29,
   "metadata": {},
   "outputs": [
    {
     "name": "stdout",
     "output_type": "stream",
     "text": [
      "No. of rides cancelled after assigning the driver: 22512\n"
     ]
    }
   ],
   "source": [
    "grouped_after = df.groupby('is_driver_assigned_key')\n",
    "cancelled_after_assigned = grouped_after.get_group(1)\n",
    "Cancelled_after_assigned = grouped_after.get_group(1)['order_gk'].size\n",
    "print(f'No. of rides cancelled after assigning the driver: {Cancelled_after_assigned}')"
   ]
  },
  {
   "cell_type": "markdown",
   "metadata": {},
   "source": [
    "Driver Assigned but client cancelled"
   ]
  },
  {
   "cell_type": "code",
   "execution_count": 22,
   "metadata": {},
   "outputs": [
    {
     "name": "stdout",
     "output_type": "stream",
     "text": [
      " No. of rides cancelled by the client after assigning the driver: 2811\n"
     ]
    }
   ],
   "source": [
    "client_group1 = cancelled_after_assigned.groupby(['order_status_key'])\n",
    "driver_assign_client_cancelled = client_group1.get_group(4)\n",
    "Driver_assign_client_cancelled = client_group1.get_group(4)['order_gk'].count()\n",
    "print(f' No. of rides cancelled by the client after assigning the driver: {Driver_assign_client_cancelled}')"
   ]
  },
  {
   "cell_type": "markdown",
   "metadata": {},
   "source": [
    "Driver Assigned but system cancelled"
   ]
  },
  {
   "cell_type": "code",
   "execution_count": 23,
   "metadata": {},
   "outputs": [
    {
     "name": "stdout",
     "output_type": "stream",
     "text": [
      "No. of rides cancelled by the system after assigning the driver: 3\n"
     ]
    }
   ],
   "source": [
    "system_group1 = cancelled_after_assigned.groupby(['order_status_key'])\n",
    "driver_assign_system_cancelled = system_group1.get_group(9)\n",
    "Driver_assign_system_cancelled = system_group1.get_group(9)['order_gk'].count()\n",
    "print(f'No. of rides cancelled by the system after assigning the driver: {Driver_assign_system_cancelled}')"
   ]
  },
  {
   "cell_type": "markdown",
   "metadata": {},
   "source": [
    "Extraxt data where the ride has been cancelled before assigning the driver"
   ]
  },
  {
   "cell_type": "code",
   "execution_count": 24,
   "metadata": {},
   "outputs": [
    {
     "name": "stdout",
     "output_type": "stream",
     "text": [
      "No. of rides cancelled before drivers assignment: 7902\n"
     ]
    }
   ],
   "source": [
    "grouped_before = df.groupby('is_driver_assigned_key')\n",
    "cancelled_before_assigned = grouped_before.get_group(0)\n",
    "Cancelled_before_assigned = grouped_before.get_group(0)['order_gk'].count()\n",
    "print(f'No. of rides cancelled before drivers assignment: {Cancelled_before_assigned}')"
   ]
  },
  {
   "cell_type": "markdown",
   "metadata": {},
   "source": [
    "Driver not assigned but client cancelled"
   ]
  },
  {
   "cell_type": "code",
   "execution_count": 30,
   "metadata": {},
   "outputs": [
    {
     "name": "stdout",
     "output_type": "stream",
     "text": [
      "No. of  rides cancelled by client before driver is assigned: 4496\n"
     ]
    }
   ],
   "source": [
    "client_group2 = cancelled_before_assigned.groupby(['order_status_key'])\n",
    "driver_notassign_client_cancelled = client_group2.get_group(4)\n",
    "Driver_notassign_client_cancelled = client_group2.get_group(4)['order_gk'].count()\n",
    "print(f'No. of  rides cancelled by client before driver is assigned: {Driver_notassign_client_cancelled}')"
   ]
  },
  {
   "cell_type": "markdown",
   "metadata": {},
   "source": [
    "Driver not assigned but system cancelled"
   ]
  },
  {
   "cell_type": "code",
   "execution_count": 31,
   "metadata": {},
   "outputs": [
    {
     "name": "stdout",
     "output_type": "stream",
     "text": [
      "No. of rides cancelled by the system before driver assigned: 3406\n"
     ]
    }
   ],
   "source": [
    "system_group2 = cancelled_before_assigned.groupby(['order_status_key'])\n",
    "driver_notassign_system_cancelled = system_group2.get_group(9)\n",
    "Driver_notassign_system_cancelled = driver_notassign_system_cancelled['order_gk'].count()\n",
    "print(f'No. of rides cancelled by the system before driver assigned: {Driver_notassign_system_cancelled}')"
   ]
  },
  {
   "cell_type": "markdown",
   "metadata": {},
   "source": [
    "Bar Graph for Driver assigned VS Driver Not Assigned"
   ]
  },
  {
   "cell_type": "code",
   "execution_count": 37,
   "metadata": {},
   "outputs": [
    {
     "name": "stdout",
     "output_type": "stream",
     "text": [
      "[7902, 22512]\n"
     ]
    }
   ],
   "source": [
    "categories = ['Cancelled before driver assigned', 'Cancelled after driver assigned']\n",
    "Values = [Cancelled_before_assigned, Cancelled_after_assigned]\n",
    "print(Values)"
   ]
  },
  {
   "cell_type": "code",
   "execution_count": 43,
   "metadata": {},
   "outputs": [
    {
     "data": {
      "text/plain": [
       "<function matplotlib.pyplot.show(close=None, block=None)>"
      ]
     },
     "execution_count": 43,
     "metadata": {},
     "output_type": "execute_result"
    },
    {
     "data": {
      "image/png": "[encoded data removed]",
      "text/plain": [
       "<Figure size 640x480 with 1 Axes>"
      ]
     },
     "metadata": {},
     "output_type": "display_data"
    }
   ],
   "source": [
    "plt.bar(categories, Values, color = ('red', 'blue'), edgecolor = 'black')\n",
    "\n",
    "plt.xlabel('Driver Assignment Status')\n",
    "plt.ylabel('No. of rides')\n",
    "plt.title('Driver Assigned VS Driver Not Assigned')\n",
    "plt.show"
   ]
  }
 ],
 "metadata": {
  "kernelspec": {
   "display_name": "base",
   "language": "python",
   "name": "python3"
  },
  "language_info": {
   "codemirror_mode": {
    "name": "ipython",
    "version": 3
   },
   "file_extension": ".py",
   "mimetype": "text/x-python",
   "name": "python",
   "nbconvert_exporter": "python",
   "pygments_lexer": "ipython3",
   "version": "3.11.5"
  }
 },
 "nbformat": 4,
 "nbformat_minor": 2
}
