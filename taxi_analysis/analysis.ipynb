{
 "cells": [
  {
   "cell_type": "markdown",
   "metadata": {},
   "source": [
    "Importing the required modules"
   ]
  },
  {
   "cell_type": "code",
   "execution_count": 1,
   "metadata": {},
   "outputs": [],
   "source": [
    "import pandas as pd \n",
    "import matplotlib as mtp "
   ]
  },
  {
   "cell_type": "markdown",
   "metadata": {},
   "source": [
    "Reading the data into dataframe"
   ]
  },
  {
   "cell_type": "code",
   "execution_count": 3,
   "metadata": {},
   "outputs": [
    {
     "data": {
      "text/html": [
       "<div>\n",
       "<style scoped>\n",
       "    .dataframe tbody tr th:only-of-type {\n",
       "        vertical-align: middle;\n",
       "    }\n",
       "\n",
       "    .dataframe tbody tr th {\n",
       "        vertical-align: top;\n",
       "    }\n",
       "\n",
       "    .dataframe thead th {\n",
       "        text-align: right;\n",
       "    }\n",
       "</style>\n",
       "<table border=\"1\" class=\"dataframe\">\n",
       "  <thead>\n",
       "    <tr style=\"text-align: right;\">\n",
       "      <th></th>\n",
       "      <th>order_datetime</th>\n",
       "      <th>origin_longitude</th>\n",
       "      <th>origin_latitude</th>\n",
       "      <th>m_order_eta</th>\n",
       "      <th>order_gk</th>\n",
       "      <th>order_status_key</th>\n",
       "      <th>is_driver_assigned_key</th>\n",
       "      <th>cancellations_time_in_seconds</th>\n",
       "    </tr>\n",
       "  </thead>\n",
       "  <tbody>\n",
       "    <tr>\n",
       "      <th>0</th>\n",
       "      <td>18:08:07</td>\n",
       "      <td>-0.978916</td>\n",
       "      <td>51.456173</td>\n",
       "      <td>60.0</td>\n",
       "      <td>3000583041974</td>\n",
       "      <td>4</td>\n",
       "      <td>1</td>\n",
       "      <td>198.0</td>\n",
       "    </tr>\n",
       "    <tr>\n",
       "      <th>1</th>\n",
       "      <td>20:57:32</td>\n",
       "      <td>-0.950385</td>\n",
       "      <td>51.456843</td>\n",
       "      <td>NaN</td>\n",
       "      <td>3000583116437</td>\n",
       "      <td>4</td>\n",
       "      <td>0</td>\n",
       "      <td>128.0</td>\n",
       "    </tr>\n",
       "    <tr>\n",
       "      <th>2</th>\n",
       "      <td>12:07:50</td>\n",
       "      <td>-0.969520</td>\n",
       "      <td>51.455544</td>\n",
       "      <td>477.0</td>\n",
       "      <td>3000582891479</td>\n",
       "      <td>4</td>\n",
       "      <td>1</td>\n",
       "      <td>46.0</td>\n",
       "    </tr>\n",
       "    <tr>\n",
       "      <th>3</th>\n",
       "      <td>13:50:20</td>\n",
       "      <td>-1.054671</td>\n",
       "      <td>51.460544</td>\n",
       "      <td>658.0</td>\n",
       "      <td>3000582941169</td>\n",
       "      <td>4</td>\n",
       "      <td>1</td>\n",
       "      <td>62.0</td>\n",
       "    </tr>\n",
       "    <tr>\n",
       "      <th>4</th>\n",
       "      <td>21:24:45</td>\n",
       "      <td>-0.967605</td>\n",
       "      <td>51.458236</td>\n",
       "      <td>NaN</td>\n",
       "      <td>3000583140877</td>\n",
       "      <td>9</td>\n",
       "      <td>0</td>\n",
       "      <td>NaN</td>\n",
       "    </tr>\n",
       "  </tbody>\n",
       "</table>\n",
       "</div>"
      ],
      "text/plain": [
       "  order_datetime  origin_longitude  origin_latitude  m_order_eta  \\\n",
       "0       18:08:07         -0.978916        51.456173         60.0   \n",
       "1       20:57:32         -0.950385        51.456843          NaN   \n",
       "2       12:07:50         -0.969520        51.455544        477.0   \n",
       "3       13:50:20         -1.054671        51.460544        658.0   \n",
       "4       21:24:45         -0.967605        51.458236          NaN   \n",
       "\n",
       "        order_gk  order_status_key  is_driver_assigned_key  \\\n",
       "0  3000583041974                 4                       1   \n",
       "1  3000583116437                 4                       0   \n",
       "2  3000582891479                 4                       1   \n",
       "3  3000582941169                 4                       1   \n",
       "4  3000583140877                 9                       0   \n",
       "\n",
       "   cancellations_time_in_seconds  \n",
       "0                          198.0  \n",
       "1                          128.0  \n",
       "2                           46.0  \n",
       "3                           62.0  \n",
       "4                            NaN  "
      ]
     },
     "execution_count": 3,
     "metadata": {},
     "output_type": "execute_result"
    }
   ],
   "source": [
    "df = pd.read_csv(r'D:\\datascience\\projects\\Python-Projects\\taxi_analysis\\datasets\\data_orders.csv')\n",
    "df.head(5)"
   ]
  },
  {
   "cell_type": "code",
   "execution_count": 4,
   "metadata": {},
   "outputs": [
    {
     "name": "stdout",
     "output_type": "stream",
     "text": [
      "<class 'pandas.core.frame.DataFrame'>\n",
      "RangeIndex: 10716 entries, 0 to 10715\n",
      "Data columns (total 8 columns):\n",
      " #   Column                         Non-Null Count  Dtype  \n",
      "---  ------                         --------------  -----  \n",
      " 0   order_datetime                 10716 non-null  object \n",
      " 1   origin_longitude               10716 non-null  float64\n",
      " 2   origin_latitude                10716 non-null  float64\n",
      " 3   m_order_eta                    2814 non-null   float64\n",
      " 4   order_gk                       10716 non-null  int64  \n",
      " 5   order_status_key               10716 non-null  int64  \n",
      " 6   is_driver_assigned_key         10716 non-null  int64  \n",
      " 7   cancellations_time_in_seconds  7307 non-null   float64\n",
      "dtypes: float64(4), int64(3), object(1)\n",
      "memory usage: 669.9+ KB\n"
     ]
    }
   ],
   "source": [
    "df.info()"
   ]
  },
  {
   "cell_type": "markdown",
   "metadata": {},
   "source": [
    "Extraxt data where the ride has been cancelled after assigning the driver"
   ]
  },
  {
   "cell_type": "code",
   "execution_count": 9,
   "metadata": {},
   "outputs": [
    {
     "name": "stdout",
     "output_type": "stream",
     "text": [
      "   order_datetime  origin_longitude  origin_latitude  m_order_eta  \\\n",
      "0        18:08:07         -0.978916        51.456173         60.0   \n",
      "2        12:07:50         -0.969520        51.455544        477.0   \n",
      "3        13:50:20         -1.054671        51.460544        658.0   \n",
      "13       16:55:28         -0.950683        51.451368        538.0   \n",
      "14       00:59:26         -0.937006        51.448696        179.0   \n",
      "\n",
      "         order_gk  order_status_key  is_driver_assigned_key  \\\n",
      "0   3000583041974                 4                       1   \n",
      "2   3000582891479                 4                       1   \n",
      "3   3000582941169                 4                       1   \n",
      "13  3000583016613                 4                       1   \n",
      "14  3000582566041                 4                       1   \n",
      "\n",
      "    cancellations_time_in_seconds  \n",
      "0                           198.0  \n",
      "2                            46.0  \n",
      "3                            62.0  \n",
      "13                          188.0  \n",
      "14                          316.0  \n"
     ]
    }
   ],
   "source": [
    "grouped_after = df.groupby('is_driver_assigned_key')\n",
    "cancelled_after_assigned = grouped_after.get_group(1)\n",
    "print(cancelled_after_assigned.head(5))"
   ]
  },
  {
   "cell_type": "markdown",
   "metadata": {},
   "source": [
    "Driver Assigned but client cancelled"
   ]
  },
  {
   "cell_type": "code",
   "execution_count": null,
   "metadata": {},
   "outputs": [],
   "source": [
    "client_group1 = cancelled_after_assigned.groupby(['order_status_key'])\n",
    "driver_assign_client_cancelled = client_group1.get_group(4)\n",
    "print(driver_assign_client_cancelled.head(5))"
   ]
  },
  {
   "cell_type": "markdown",
   "metadata": {},
   "source": [
    "Driver Assigned but system cancelled"
   ]
  },
  {
   "cell_type": "code",
   "execution_count": null,
   "metadata": {},
   "outputs": [],
   "source": [
    "system_group1 = cancelled_after_assigned.groupby(['order_status_key'])\n",
    "driver_assign_system_cancelled = system_group1.get_group(9)\n",
    "print(driver_assign_system_cancelled.head(5))"
   ]
  },
  {
   "cell_type": "markdown",
   "metadata": {},
   "source": [
    "Extraxt data where the ride has been cancelled before assigning the driver"
   ]
  },
  {
   "cell_type": "code",
   "execution_count": 13,
   "metadata": {},
   "outputs": [
    {
     "name": "stdout",
     "output_type": "stream",
     "text": [
      "  order_datetime  origin_longitude  origin_latitude  m_order_eta  \\\n",
      "1       20:57:32         -0.950385        51.456843          NaN   \n",
      "4       21:24:45         -0.967605        51.458236          NaN   \n",
      "5       21:21:23         -0.947011        51.456380          NaN   \n",
      "6       07:58:15         -0.955637        51.470372          NaN   \n",
      "7       07:53:46         -0.978230        51.454575          NaN   \n",
      "\n",
      "        order_gk  order_status_key  is_driver_assigned_key  \\\n",
      "1  3000583116437                 4                       0   \n",
      "4  3000583140877                 9                       0   \n",
      "5  3000583117054                 9                       0   \n",
      "6  3000582791789                 9                       0   \n",
      "7  3000582791562                 9                       0   \n",
      "\n",
      "   cancellations_time_in_seconds  \n",
      "1                          128.0  \n",
      "4                            NaN  \n",
      "5                            NaN  \n",
      "6                            NaN  \n",
      "7                            NaN  \n"
     ]
    }
   ],
   "source": [
    "grouped_before = df.groupby('is_driver_assigned_key')\n",
    "cancelled_before_assigned = grouped_before.get_group(0)\n",
    "print(cancelled_before_assigned.head(5))"
   ]
  },
  {
   "cell_type": "markdown",
   "metadata": {},
   "source": [
    "Driver not assigned but client cancelled"
   ]
  },
  {
   "cell_type": "code",
   "execution_count": 14,
   "metadata": {},
   "outputs": [
    {
     "name": "stdout",
     "output_type": "stream",
     "text": [
      "   order_datetime  origin_longitude  origin_latitude  m_order_eta  \\\n",
      "1        20:57:32         -0.950385        51.456843          NaN   \n",
      "9        06:33:52         -0.976216        51.433202          NaN   \n",
      "10       15:40:15         -0.934670        51.447065          NaN   \n",
      "11       20:59:35         -0.972735        51.452489          NaN   \n",
      "12       06:25:31         -0.958791        51.459481          NaN   \n",
      "\n",
      "         order_gk  order_status_key  is_driver_assigned_key  \\\n",
      "1   3000583116437                 4                       0   \n",
      "9   3000582765616                 4                       0   \n",
      "10  3000582991062                 4                       0   \n",
      "11  3000583116472                 4                       0   \n",
      "12  3000582765488                 4                       0   \n",
      "\n",
      "    cancellations_time_in_seconds  \n",
      "1                           128.0  \n",
      "9                            78.0  \n",
      "10                          167.0  \n",
      "11                           45.0  \n",
      "12                           79.0  \n"
     ]
    }
   ],
   "source": [
    "client_group2 = cancelled_before_assigned.groupby(['order_status_key'])\n",
    "driver_notassign_client_cancelled = client_group2.get_group(4)\n",
    "print(driver_notassign_client_cancelled.head(5))"
   ]
  },
  {
   "cell_type": "markdown",
   "metadata": {},
   "source": [
    "Driver not assigned but system cancelled"
   ]
  },
  {
   "cell_type": "code",
   "execution_count": 15,
   "metadata": {},
   "outputs": [
    {
     "name": "stdout",
     "output_type": "stream",
     "text": [
      "  order_datetime  origin_longitude  origin_latitude  m_order_eta  \\\n",
      "4       21:24:45         -0.967605        51.458236          NaN   \n",
      "5       21:21:23         -0.947011        51.456380          NaN   \n",
      "6       07:58:15         -0.955637        51.470372          NaN   \n",
      "7       07:53:46         -0.978230        51.454575          NaN   \n",
      "8       08:53:01         -1.052298        51.454308          NaN   \n",
      "\n",
      "        order_gk  order_status_key  is_driver_assigned_key  \\\n",
      "4  3000583140877                 9                       0   \n",
      "5  3000583117054                 9                       0   \n",
      "6  3000582791789                 9                       0   \n",
      "7  3000582791562                 9                       0   \n",
      "8  3000582817606                 9                       0   \n",
      "\n",
      "   cancellations_time_in_seconds  \n",
      "4                            NaN  \n",
      "5                            NaN  \n",
      "6                            NaN  \n",
      "7                            NaN  \n",
      "8                            NaN  \n"
     ]
    }
   ],
   "source": [
    "system_group2 = cancelled_before_assigned.groupby(['order_status_key'])\n",
    "driver_notassign_system_cancelled = system_group2.get_group(9)\n",
    "print(driver_notassign_system_cancelled.head(5))"
   ]
  }
 ],
 "metadata": {
  "kernelspec": {
   "display_name": "base",
   "language": "python",
   "name": "python3"
  },
  "language_info": {
   "codemirror_mode": {
    "name": "ipython",
    "version": 3
   },
   "file_extension": ".py",
   "mimetype": "text/x-python",
   "name": "python",
   "nbconvert_exporter": "python",
   "pygments_lexer": "ipython3",
   "version": "3.11.5"
  }
 },
 "nbformat": 4,
 "nbformat_minor": 2
}
