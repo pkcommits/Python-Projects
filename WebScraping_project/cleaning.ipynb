{
 "cells": [
  {
   "cell_type": "code",
   "execution_count": 4,
   "metadata": {},
   "outputs": [],
   "source": [
    "import json"
   ]
  },
  {
   "cell_type": "code",
   "execution_count": 10,
   "metadata": {},
   "outputs": [
    {
     "name": "stdout",
     "output_type": "stream",
     "text": [
      "Corrected JSON written to: D:\\datascience\\projects\\Python-Projects\\Python-Projects\\formatted+data.json\n"
     ]
    }
   ],
   "source": [
    "file_path = r'D:\\datascience\\projects\\Python-Projects\\Python-Projects\\amazon_data.json'\n",
    "corrected_file_path = r'D:\\datascience\\projects\\Python-Projects\\Python-Projects\\formatted+data.json'\n",
    "\n",
    "with open(file_path, 'r') as file:\n",
    "    lines = file.readlines()\n",
    "\n",
    "data = []\n",
    "\n",
    "for line in lines:\n",
    "    try:\n",
    "        data.append(json.loads(line))\n",
    "    except json.JSONDecodeError as e:\n",
    "        print(f\"Error decoding JSON: {e}\")\n",
    "        \n",
    "with open(corrected_file_path, 'w') as corrected_file:\n",
    "    json.dump(data, corrected_file, indent=2)\n",
    "\n",
    "print(f\"Corrected JSON written to: {corrected_file_path}\")"
   ]
  }
 ],
 "metadata": {
  "kernelspec": {
   "display_name": "base",
   "language": "python",
   "name": "python3"
  },
  "language_info": {
   "codemirror_mode": {
    "name": "ipython",
    "version": 3
   },
   "file_extension": ".py",
   "mimetype": "text/x-python",
   "name": "python",
   "nbconvert_exporter": "python",
   "pygments_lexer": "ipython3",
   "version": "3.11.5"
  }
 },
 "nbformat": 4,
 "nbformat_minor": 2
}
